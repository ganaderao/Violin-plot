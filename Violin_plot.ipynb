{
  "nbformat": 4,
  "nbformat_minor": 0,
  "metadata": {
    "colab": {
      "provenance": [],
      "authorship_tag": "ABX9TyNazcKgFfAH91PkMG1EC1jz",
      "include_colab_link": true
    },
    "kernelspec": {
      "name": "python3",
      "display_name": "Python 3"
    },
    "language_info": {
      "name": "python"
    }
  },
  "cells": [
    {
      "cell_type": "markdown",
      "metadata": {
        "id": "view-in-github",
        "colab_type": "text"
      },
      "source": [
        "<a href=\"https://colab.research.google.com/github/ganaderao/Violin-plot/blob/main/Violin_plot.ipynb\" target=\"_parent\"><img src=\"https://colab.research.google.com/assets/colab-badge.svg\" alt=\"Open In Colab\"/></a>"
      ]
    },
    {
      "cell_type": "code",
      "execution_count": null,
      "metadata": {
        "id": "_YxWUcCGeqsv"
      },
      "outputs": [],
      "source": [
        "# Import necessary libraries\n",
        "import pandas as pd\n",
        "import seaborn as sns\n",
        "import matplotlib.pyplot as plt\n",
        "from google.colab import files\n",
        "\n",
        "# Step 1: Upload the file\n",
        "print(\"Please upload your CSV or Excel file:\")\n",
        "uploaded = files.upload()\n",
        "\n",
        "# Step 2: Read the uploaded file\n",
        "file_name = list(uploaded.keys())[0]\n",
        "if file_name.endswith('.csv'):\n",
        "    data = pd.read_csv(file_name)\n",
        "elif file_name.endswith(('.xls', '.xlsx')):\n",
        "    data = pd.read_excel(file_name)\n",
        "else:\n",
        "    raise ValueError(\"Unsupported file type. Please upload a CSV or Excel file.\")\n",
        "\n",
        "# Step 3: Reshape the data for plotting\n",
        "melted_data = pd.melt(data, id_vars=['Groups'], var_name='Day', value_name='Measurement')\n",
        "\n",
        "# Step 4: Define a custom color palette\n",
        "palette = {\n",
        "    \"CON\": \"red\",\n",
        "    \"CON_HS\": \"blue\",\n",
        "    \"T1_HS\": \"green\",\n",
        "    \"T2_HS\": \"orange\"\n",
        "}\n",
        "\n",
        "# Step 5: Create the violin plot\n",
        "plt.figure(figsize=(14, 8))\n",
        "sns.violinplot(x='Groups', y='Measurement', data=melted_data, palette=palette)\n",
        "\n",
        "# Add labels and title\n",
        "plt.xlabel('Groups', fontsize=14)\n",
        "plt.ylabel('counts per minutes', fontsize=14)\n",
        "plt.title('Rectal temperature', fontsize=16)\n",
        "\n",
        "# Save the plot with 600 DPI\n",
        "plot_file_name = \"violin_plot_600dpi.png\"\n",
        "plt.savefig(plot_file_name, dpi=600)\n",
        "\n",
        "# Show the plot\n",
        "plt.show()\n",
        "\n",
        "# Step 6: Download the plot\n",
        "print(f\"Downloading the plot: {plot_file_name}\")\n",
        "files.download(plot_file_name)\n"
      ]
    },
    {
      "cell_type": "code",
      "source": [
        "# Import necessary libraries\n",
        "import pandas as pd\n",
        "import seaborn as sns\n",
        "import matplotlib.pyplot as plt\n",
        "from google.colab import files\n",
        "\n",
        "# Step 1: Upload the file\n",
        "print(\"Please upload your CSV or Excel file:\")\n",
        "uploaded = files.upload()\n",
        "\n",
        "# Step 2: Read the uploaded file\n",
        "file_name = list(uploaded.keys())[0]\n",
        "if file_name.endswith('.csv'):\n",
        "    data = pd.read_csv(file_name)\n",
        "elif file_name.endswith(('.xls', '.xlsx')):\n",
        "    data = pd.read_excel(file_name)\n",
        "else:\n",
        "    raise ValueError(\"Unsupported file type. Please upload a CSV or Excel file.\")\n",
        "\n",
        "# Step 3: Reshape the data for plotting\n",
        "melted_data = pd.melt(data, id_vars=['Groups'], var_name='Day', value_name='Measurement')\n",
        "\n",
        "# Step 4: Define a custom color palette\n",
        "palette = {\n",
        "    \"CON\": \"red\",\n",
        "    \"CON_HS\": \"blue\",\n",
        "    \"T1_HS\": \"green\",\n",
        "    \"T2_HS\": \"orange\"\n",
        "}\n",
        "\n",
        "# Step 5: Create the violin plot\n",
        "plt.figure(figsize=(14, 8))\n",
        "sns.violinplot(x='Groups', y='Measurement', data=melted_data, palette=palette)\n",
        "\n",
        "# Add labels and title\n",
        "plt.xlabel('Groups', fontsize=14)\n",
        "plt.ylabel('F', fontsize=14)\n",
        "plt.title('Respiration rate', fontsize=16)\n",
        "\n",
        "# Save the plot with 600 DPI\n",
        "plot_file_name = \"violin_plot_600dpi.png\"\n",
        "plt.savefig(plot_file_name, dpi=600)\n",
        "\n",
        "# Show the plot\n",
        "plt.show()\n",
        "\n",
        "# Step 6: Download the plot\n",
        "print(f\"Downloading the plot: {plot_file_name}\")\n",
        "files.download(plot_file_name)\n"
      ],
      "metadata": {
        "id": "6rfIOAstfZc7"
      },
      "execution_count": null,
      "outputs": []
    }
  ]
}